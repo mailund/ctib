{
 "cells": [
  {
   "cell_type": "markdown",
   "metadata": {},
   "source": [
    "# Handin number two: weighted shortest paths\n",
    "\n",
    "In the [Shortest path](Shortest_paths.ipynb) notes, you saw Dijkstra's and Floyd-Warshall's algorithms for finding the shortest path from one node to all others all pairs, respectively. In those algorithms, we simply counted the number of nodes we would have to go through to move from one node to another. But we can generalised this and put *weights* on edges and instead compute the weight of paths with smallest weights.\n",
    "\n",
    "We will asume that weights are positive numbers -- the algorithms do not actually generalise to handle negative weights -- and we update the representation of graphs to associate weights with each edge. For adjacency list representations, we can simply represent edges as targets combined with a weight:"
   ]
  },
  {
   "cell_type": "code",
   "execution_count": 1,
   "metadata": {
    "collapsed": true
   },
   "outputs": [],
   "source": [
    "def make_list_graph(n_vertices):\n",
    "    return [[] for _ in range(n_vertices)]\n",
    "    \n",
    "def add_list_edge(graph, source, target, weight):\n",
    "    if target not in graph[source]:\n",
    "        graph[source].append((weight,target))"
   ]
  },
  {
   "cell_type": "code",
   "execution_count": 2,
   "metadata": {},
   "outputs": [
    {
     "name": "stdout",
     "output_type": "stream",
     "text": [
      "[[(0.1, 1), (0.4, 5)], [(0.5, 2), (1.4, 3)], [(2.3, 4)], [(0.4, 5)], [], [(0.1, 1)]]\n"
     ]
    }
   ],
   "source": [
    "g = make_list_graph(6)\n",
    "\n",
    "add_list_edge(g, 0, 1, 0.1)\n",
    "add_list_edge(g, 0, 5, 0.4)\n",
    "add_list_edge(g, 1, 2, 0.5)\n",
    "add_list_edge(g, 1, 3, 1.4)\n",
    "add_list_edge(g, 2, 4, 2.3)\n",
    "add_list_edge(g, 3, 5, 0.4)\n",
    "add_list_edge(g, 5, 1, 0.1)\n",
    "\n",
    "print(g)"
   ]
  },
  {
   "cell_type": "markdown",
   "metadata": {},
   "source": [
    "For matrix representations, we can replace the bit matrix with the weight matrix we used in Floyd-Warshall's algorithm, i.e. we represent a missing edge as an infinite distance and existing edges by their numbers."
   ]
  },
  {
   "cell_type": "code",
   "execution_count": 5,
   "metadata": {
    "collapsed": true
   },
   "outputs": [],
   "source": [
    "import numpy as np\n",
    "\n",
    "def make_matrix_graph(n_vertices):\n",
    "    weights = np.empty(shape = (n_vertices, n_vertices))\n",
    "    weights[:,:] = float(\"Inf\")\n",
    "    return weights\n",
    "\n",
    "def add_matrix_edge(graph, i, j, weight):\n",
    "    graph[i,j] = weight"
   ]
  },
  {
   "cell_type": "code",
   "execution_count": 7,
   "metadata": {},
   "outputs": [
    {
     "name": "stdout",
     "output_type": "stream",
     "text": [
      "[[ inf  0.1  inf  inf  inf  0.4]\n",
      " [ inf  inf  0.5  1.4  inf  inf]\n",
      " [ inf  inf  inf  inf  2.3  inf]\n",
      " [ inf  inf  inf  inf  inf  0.4]\n",
      " [ inf  inf  inf  inf  inf  inf]\n",
      " [ inf  0.1  inf  inf  inf  inf]]\n"
     ]
    }
   ],
   "source": [
    "mg = make_matrix_graph(6)\n",
    "\n",
    "add_matrix_edge(mg, 0, 1, 0.1)\n",
    "add_matrix_edge(mg, 0, 5, 0.4)\n",
    "add_matrix_edge(mg, 1, 2, 0.5)\n",
    "add_matrix_edge(mg, 1, 3, 1.4)\n",
    "add_matrix_edge(mg, 2, 4, 2.3)\n",
    "add_matrix_edge(mg, 3, 5, 0.4)\n",
    "add_matrix_edge(mg, 5, 1, 0.1)\n",
    "\n",
    "print(mg)"
   ]
  },
  {
   "cell_type": "markdown",
   "metadata": {},
   "source": [
    "Below, I have copied the original versions of the two algorithms. Your task is to update them to work with graphs with weighted edges and compute minimal distances taking the weights into account."
   ]
  },
  {
   "cell_type": "code",
   "execution_count": 8,
   "metadata": {
    "collapsed": true
   },
   "outputs": [],
   "source": [
    "def argmin_seen(dist, seen, processed):\n",
    "    v, d = None, float(\"Inf\")\n",
    "    for i, dd in enumerate(dist):\n",
    "        if seen[i] and not processed[i] and dd < d:\n",
    "            v, d = i, dd\n",
    "    return v\n",
    "\n",
    "def dijkstra(graph, s):\n",
    "    seen = [False] * len(graph)\n",
    "    processed = [False] * len(graph)\n",
    "    dist = [float(\"Inf\")] * len(graph)\n",
    "    \n",
    "    dist[s] = 0\n",
    "    seen[s] = True\n",
    "    v = s\n",
    "    while v is not None:\n",
    "        for w in graph[v]:\n",
    "            if not processed[w]:\n",
    "                dist[w] = min(dist[w], dist[v] + 1)\n",
    "                seen[w] = True\n",
    "        processed[v] = True\n",
    "        v = argmin_seen(dist, seen, processed)\n",
    "    \n",
    "    return dist"
   ]
  },
  {
   "cell_type": "code",
   "execution_count": 9,
   "metadata": {
    "collapsed": true
   },
   "outputs": [],
   "source": [
    "def floyd(graph):\n",
    "    n = graph.shape[0]\n",
    "    d = make_dist_matrix(graph)\n",
    "    new, old = d, d.copy()\n",
    "    for k in range(n):\n",
    "        for i in range(n):\n",
    "            for j in range(n):\n",
    "                new[i,j] = min(old[i,j], old[i,k] + old[k,j])\n",
    "        old, new = new, old\n",
    "    return new"
   ]
  }
 ],
 "metadata": {
  "kernelspec": {
   "display_name": "Python 3",
   "language": "python",
   "name": "python3"
  },
  "language_info": {
   "codemirror_mode": {
    "name": "ipython",
    "version": 3
   },
   "file_extension": ".py",
   "mimetype": "text/x-python",
   "name": "python",
   "nbconvert_exporter": "python",
   "pygments_lexer": "ipython3",
   "version": "3.5.2"
  }
 },
 "nbformat": 4,
 "nbformat_minor": 2
}
