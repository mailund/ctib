{
 "cells": [
  {
   "cell_type": "markdown",
   "metadata": {},
   "source": [
    "# Shortest path\n",
    "\n",
    "A common graph problem is finding the shortest path between two or more vertices. Consider this graph:"
   ]
  },
  {
   "cell_type": "code",
   "execution_count": 1,
   "metadata": {},
   "outputs": [
    {
     "name": "stdout",
     "output_type": "stream",
     "text": [
      "[[1, 5], [2, 3], [4], [5], [], [1]]\n"
     ]
    }
   ],
   "source": [
    "def make_list_graph(n_vertices):\n",
    "    return [[] for _ in range(n_vertices)]\n",
    "    \n",
    "def add_list_edge(graph, source, target):\n",
    "    if target not in graph[source]:\n",
    "        graph[source].append(target)\n",
    "        \n",
    "g = make_list_graph(6)\n",
    "\n",
    "add_list_edge(g, 0, 1)\n",
    "add_list_edge(g, 0, 5)\n",
    "add_list_edge(g, 1, 2)\n",
    "add_list_edge(g, 1, 3)\n",
    "add_list_edge(g, 2, 4)\n",
    "add_list_edge(g, 3, 5)\n",
    "add_list_edge(g, 5, 1)\n",
    "\n",
    "print(g)"
   ]
  },
  {
   "cell_type": "markdown",
   "metadata": {},
   "source": [
    "The graph we just constructed looks like this:\n",
    "\n",
    "![](figures/small-graph.png)\n",
    "\n",
    "The shortest paths from 0 to 4 and 5, respectively, are highlighted."
   ]
  },
  {
   "cell_type": "markdown",
   "metadata": {},
   "source": [
    "In JVG, there is an algorithm for finding the shortest path between two nodes using a depth first traversal of a graph. Below is my implementation of this idea. My version is a bit more efficient since I do not concatenate lists to keep track of the current candidate path--something that takes time proportional to the length of the list--and I use bit-vectors to check if a given node is on the current path, which is a constant time operation, instead of using\n",
    "\n",
    "```python\n",
    "node not in path\n",
    "```\n",
    "\n",
    "which is another linear time operation."
   ]
  },
  {
   "cell_type": "code",
   "execution_count": 2,
   "metadata": {},
   "outputs": [
    {
     "name": "stdout",
     "output_type": "stream",
     "text": [
      "[0, 1, 2, 4]\n",
      "[0, 5]\n"
     ]
    }
   ],
   "source": [
    "def dfs(graph, v, t, current_path, on_path, shortest_ref):\n",
    "    if v == t:\n",
    "        shortest = shortest_ref[0]\n",
    "        if shortest is None or len(current_path) < len(shortest):\n",
    "            shortest_ref[0] = current_path[:]\n",
    "    else:\n",
    "        for w in graph[v]:\n",
    "            if not on_path[w]:\n",
    "                current_path.append(w)\n",
    "                on_path[w] = True\n",
    "                dfs(graph, w, t, current_path, on_path, shortest_ref)\n",
    "                current_path.pop()\n",
    "                on_path[w] = False\n",
    "    \n",
    "\n",
    "def dfs_path(graph, s, t):\n",
    "    shortest_ref = [None]\n",
    "    on_path = [False] * len(graph)\n",
    "    current_path = [s]\n",
    "    on_path[s] = True\n",
    "    dfs(graph, s, t, current_path, on_path, shortest_ref)\n",
    "    return shortest_ref[0]\n",
    "\n",
    "print(dfs_path(g, 0, 4))\n",
    "print(dfs_path(g, 0, 5))"
   ]
  },
  {
   "cell_type": "markdown",
   "metadata": {},
   "source": [
    "There is a bit of a hack in this implementation that allows me to update the shortest path seen so far as part of the traversal as a side effect. In the book's implementation, he returns paths as part of recursive calls. That is also potentially inefficient since it involves copying. I copy the best path seen so far when I identify one, but to be able to assign this to a variable I need either a global variable and a trick I haven't shown you, or I need some kind of indirection. Here, I make a list, `shortest_ref`, that contain a single element, which is the shortest path. If I assign to the variable `shortest_ref` inside `dfs`, Python will think I'm writing to a local variable, and the assignment cannot be seen by `dfs_path`. Instead, I write to `shortest_ref[0]`. I modify the list instead of the variable. And *this*, `dfs_path` can see. It is a hack, but it works.\n",
    "\n",
    "The idea is illustrated in this figure:\n",
    "\n",
    "![](figures/reference.png)\n",
    "\n",
    "The two `shortest_ref` variables are both local variables and independent, but they both refer to the same list, and when we modify the list, both functions can see it.\n",
    "\n",
    "I have tried to make the implementation of this algorithm as efficient as I can, without hurting readability, but there are limits to what can be done if we search for shortest paths using a depth first traversal like this. We potentially have to search all possible paths, and there can be lots of those. In the book, there is an optimisation that prevents the function from traversing paths that are longer than the shortest we have seen so far, but this doesn't alleviate the problem of having to traverse a lot of paths. If we construct a graph with a grid shape as this:\n",
    "\n",
    "![](figures/grid-graph.png)\n",
    "\n",
    "(where here, $n$ refers to the size of the two dimensions, the number of vertices is $n^2$), all paths from the top left to the bottom have the same length, $2n$. The depth first traversal has to run through them all to figure out which is shortest."
   ]
  },
  {
   "cell_type": "code",
   "execution_count": 3,
   "metadata": {},
   "outputs": [
    {
     "name": "stdout",
     "output_type": "stream",
     "text": [
      "[[1, 3], [2, 4], [5], [4, 6], [5, 7], [8], [7], [8], []]\n",
      "[0, 1, 2, 5, 8]\n"
     ]
    }
   ],
   "source": [
    "def make_grid_graph(n):\n",
    "    graph = make_list_graph(n*n)\n",
    "    for i in range(n):\n",
    "        for j in range(n-1):\n",
    "            add_list_edge(graph, i*n + j, i*n + j + 1)\n",
    "    for i in range(n-1):\n",
    "        for j in range(n):\n",
    "            add_list_edge(graph, i*n + j, (i+1)*n + j)\n",
    "    return graph        \n",
    "\n",
    "n = 3\n",
    "gg = make_grid_graph(n)\n",
    "print(gg)\n",
    "print(dfs_path(gg, 0, n*n-1))"
   ]
  },
  {
   "cell_type": "markdown",
   "metadata": {},
   "source": [
    "The number of paths through this graph is ${2n \\choose n}$. You see this by first observing that all paths have length $2n$ and all contain exactly $n$ steps down and $n$ steps to the right, and you can pick any of the $2n$ steps to be the $n$ down (or right) steps."
   ]
  },
  {
   "cell_type": "code",
   "execution_count": 4,
   "metadata": {},
   "outputs": [
    {
     "data": {
      "text/plain": [
       "20.0"
      ]
     },
     "execution_count": 4,
     "metadata": {},
     "output_type": "execute_result"
    }
   ],
   "source": [
    "from scipy.misc import comb as choose\n",
    "choose(2*n, n)"
   ]
  },
  {
   "cell_type": "markdown",
   "metadata": {},
   "source": [
    "This is known as the *central binomial coefficient* and can be approximated by ${2n \\choose n} \\sim \\frac{4^n}{\\sqrt{\\pi n}}$."
   ]
  },
  {
   "cell_type": "code",
   "execution_count": 5,
   "metadata": {},
   "outputs": [
    {
     "data": {
      "image/png": "[encoded data removed]",
      "text/plain": [
       "<matplotlib.figure.Figure at 0x113d58cc0>"
      ]
     },
     "metadata": {},
     "output_type": "display_data"
    }
   ],
   "source": [
    "import matplotlib.pyplot as plt\n",
    "import math \n",
    "\n",
    "ns = range(2, 25)\n",
    "graph_size = [n*n for n in ns]\n",
    "\n",
    "fig, ax = plt.subplots()\n",
    "ax.plot(graph_size, [choose(2*n, n) for n in ns], label='# paths')\n",
    "ax.plot(graph_size, [4**n / math.sqrt(math.pi * n) for n in ns], label=\"$4^n / \\sqrt{\\pi n}$\")\n",
    "\n",
    "ax.legend()\n",
    "plt.show()"
   ]
  },
  {
   "cell_type": "markdown",
   "metadata": {},
   "source": [
    "This is an exponential function, so clearly, exploring *all* paths has poor worst-case performance.\n",
    "\n",
    "We can take a different approach, using a method known ad *Dikjkstra's shortest path algorithm*. This algorithm finds the length of the shortest path from one node, $s$ to all other nodes in time $O(n^2)$, and from that we can backtrack to extract a shortest path.\n",
    "\n",
    "The algorithm works like this: we construct a list with the distance from $s$ to all other vertices $v$. Initially, this contains $\\infty$ at all entries. We then set the distance from $s$ to itself to be zero. We also keep track of all the vertices we have seen in our graph traversal, and all the vertices we have already processed. Initially, this is just $s$ as well. Then, iteratively, we pick the vertix $v$ among the seen, but not processed, vertices with the smallest distance to $s$ (in the first iteration this must be $s$ so we don't need to search for it there). We iterate through all it's neighbours, the vertices $w$ where we have edges $(v,w)$, and we compute the shortest distance to those. This is either a distance that can reach them through some other path we have previously explored or it is the distance to $v$ plus one. We make sure to mark the $w$s as having been seen (we don't have to worry about them being processed--if they have, we have already recored that), and finally we mark $v$ as processed--so we do not do it again--and then pick a new $v$ from the remaining seen but not processed.\n",
    "\n",
    "We continue doing this as long as there are nodes we have seen but not processed. When there are no more such nodes, we have reached all nodes that can be reached from $s$ and we have computed the distance to them. Those that are not reachable from $s$ will have infinity as their distance, which is appropriate. The algorithm is implemented below. Mentally, go through the two loops inside `dijkstra` and convince you that the running time is $O(n^2)$."
   ]
  },
  {
   "cell_type": "code",
   "execution_count": 6,
   "metadata": {},
   "outputs": [
    {
     "name": "stdout",
     "output_type": "stream",
     "text": [
      "[0, 1, 2, 2, 3, 1]\n"
     ]
    }
   ],
   "source": [
    "def argmin_seen(dist, seen, processed):\n",
    "    v, d = None, float(\"Inf\")\n",
    "    for i, dd in enumerate(dist):\n",
    "        if seen[i] and not processed[i] and dd < d:\n",
    "            v, d = i, dd\n",
    "    return v\n",
    "\n",
    "def dijkstra(graph, s):\n",
    "    seen = [False] * len(graph)\n",
    "    processed = [False] * len(graph)\n",
    "    dist = [float(\"Inf\")] * len(graph)\n",
    "    \n",
    "    dist[s] = 0\n",
    "    seen[s] = True\n",
    "    v = s\n",
    "    while v is not None:\n",
    "        for w in graph[v]:\n",
    "            if not processed[w]:\n",
    "                dist[w] = min(dist[w], dist[v] + 1)\n",
    "                seen[w] = True\n",
    "        processed[v] = True\n",
    "        v = argmin_seen(dist, seen, processed)\n",
    "    \n",
    "    return dist\n",
    "    \n",
    "dist = dijkstra(g, 0)\n",
    "print(dist)"
   ]
  },
  {
   "cell_type": "markdown",
   "metadata": {},
   "source": [
    "Dijkstra's algorithm only computes the *length* of the shortest paths from $s$ to all the others. To get the actual paths, we need implement an algorithm that is similar to the backtracking algorithm we saw when we looked at pairwise alignments. To get the shortest path from $s$ to $t$, we need to search from $t$ to $s$ and always take, as the next node in the path we construct, one whose distance is one less than the previous. Since we are working with oriented graphs, we first need to reverse the edges, so we can move backwards through it efficiently (if the graphs were not oriented we wouldn't need to do this), but other than this, the backtracking is fairly straightforward."
   ]
  },
  {
   "cell_type": "code",
   "execution_count": 7,
   "metadata": {},
   "outputs": [
    {
     "name": "stdout",
     "output_type": "stream",
     "text": [
      "[[], [0, 5], [1], [1], [2], [0, 3]]\n",
      "[0, 1, 2, 4]\n",
      "[0, 5]\n"
     ]
    }
   ],
   "source": [
    "def reverse_graph(graph):\n",
    "    reverse = make_list_graph(len(graph))\n",
    "    for v in range(len(graph)):\n",
    "        for w in graph[v]:\n",
    "            add_list_edge(reverse, w, v)\n",
    "    return reverse\n",
    "\n",
    "def back_track(graph, dist, s, t):\n",
    "    reverse = reverse_graph(graph)\n",
    "    reverse_path = [t]\n",
    "    v = t\n",
    "    while v != s:\n",
    "        for w in reverse[v]:\n",
    "            if dist[v] == dist[w] + 1:\n",
    "                reverse_path.append(w)\n",
    "                v = w\n",
    "                break\n",
    "    return list(reversed(reverse_path))\n",
    "\n",
    "print(reverse_graph(g))\n",
    "print(back_track(g, dist, 0, 4))\n",
    "print(back_track(g, dist, 0, 5))"
   ]
  },
  {
   "cell_type": "markdown",
   "metadata": {},
   "source": [
    "We combine the two algorithms to get a function for obtaining a shortest path:"
   ]
  },
  {
   "cell_type": "code",
   "execution_count": 8,
   "metadata": {
    "collapsed": true
   },
   "outputs": [],
   "source": [
    "def dijkstra_path(graph, s, t):\n",
    "    dist = dijkstra(graph, s)\n",
    "    return back_track(graph, dist, s, t)"
   ]
  },
  {
   "cell_type": "markdown",
   "metadata": {},
   "source": [
    "As expected, the second algorithm is far faster on grid graphs."
   ]
  },
  {
   "cell_type": "code",
   "execution_count": 9,
   "metadata": {},
   "outputs": [
    {
     "name": "stdout",
     "output_type": "stream",
     "text": [
      "90.7 ms ± 310 µs per loop (mean ± std. dev. of 7 runs, 10 loops each)\n",
      "862 µs ± 28.3 µs per loop (mean ± std. dev. of 7 runs, 1000 loops each)\n"
     ]
    }
   ],
   "source": [
    "n = 10\n",
    "large_graph = make_grid_graph(n)\n",
    "%timeit dfs_path(large_graph, 0, n*n-1)\n",
    "%timeit dijkstra_path(large_graph, 0, n*n-1)"
   ]
  },
  {
   "cell_type": "markdown",
   "metadata": {},
   "source": [
    "## All-pairs shortest path\n",
    "\n",
    "Using Dijkstra's algorithm, we can find all pairwise distances by calling the algorithm for all source nodes. This will take time $O(n^3)$. Another algorithm with the same complexity, but which due to its simplicity is often faster in practise, is the *Floyd-Warshall* algorithm. This algorithm uses the matrix representation of graphs:"
   ]
  },
  {
   "cell_type": "code",
   "execution_count": 10,
   "metadata": {
    "collapsed": true
   },
   "outputs": [],
   "source": [
    "import numpy as np\n",
    "\n",
    "def make_matrix_graph(n_vertices):\n",
    "    return np.zeros(shape = (n_vertices, n_vertices), dtype=int)\n",
    "\n",
    "def add_matrix_edge(graph, i, j):\n",
    "    graph[i,j] = 1"
   ]
  },
  {
   "cell_type": "code",
   "execution_count": 11,
   "metadata": {},
   "outputs": [
    {
     "name": "stdout",
     "output_type": "stream",
     "text": [
      "[[0 1 0 0 0 1]\n",
      " [0 0 1 1 0 0]\n",
      " [0 0 0 0 1 0]\n",
      " [0 0 0 0 0 1]\n",
      " [0 0 0 0 0 0]\n",
      " [0 1 0 0 0 0]]\n"
     ]
    }
   ],
   "source": [
    "mg = make_matrix_graph(6)\n",
    "\n",
    "add_matrix_edge(mg, 0, 1)\n",
    "add_matrix_edge(mg, 0, 5)\n",
    "add_matrix_edge(mg, 1, 2)\n",
    "add_matrix_edge(mg, 1, 3)\n",
    "add_matrix_edge(mg, 2, 4)\n",
    "add_matrix_edge(mg, 3, 5)\n",
    "add_matrix_edge(mg, 5, 1)\n",
    "\n",
    "print(mg)"
   ]
  },
  {
   "cell_type": "markdown",
   "metadata": {},
   "source": [
    "The algorithm works by iteratively updating a matrix that contains all pairwise distances. Initially, we set all distances to $\\infty$, except for the diagonal distances, from nodes to themselves, that we set to zero, and we set the distance between directly connected nodes $(v,w)$ to 1."
   ]
  },
  {
   "cell_type": "code",
   "execution_count": 12,
   "metadata": {},
   "outputs": [
    {
     "name": "stdout",
     "output_type": "stream",
     "text": [
      "[[  0.   1.  inf  inf  inf   1.]\n",
      " [ inf   0.   1.   1.  inf  inf]\n",
      " [ inf  inf   0.  inf   1.  inf]\n",
      " [ inf  inf  inf   0.  inf   1.]\n",
      " [ inf  inf  inf  inf   0.  inf]\n",
      " [ inf   1.  inf  inf  inf   0.]]\n"
     ]
    }
   ],
   "source": [
    "def make_dist_matrix(graph):\n",
    "    n = graph.shape[0]\n",
    "    weights = np.empty(shape=(n,n))\n",
    "    weights[:] = float(\"Inf\")\n",
    "    np.fill_diagonal(weights, 0)\n",
    "    weights[graph == 1] = 1\n",
    "    return weights\n",
    "\n",
    "print(make_dist_matrix(mg))"
   ]
  },
  {
   "cell_type": "markdown",
   "metadata": {},
   "source": [
    "The algorithm now iteratively update the distance between all nodes. In iteration $k$, it will have computed the distance between all pairs of nodes where you can get from the first node to the second using only nodes with index less than $k$. In iteration $k=0$, we will have the initial distance matrix, which contains zeros for empty paths and ones for paths of length one. Only the zero-entries are really relevant for paths going through nodes with index zero or less, but the invariant is only that we have all the paths doing that; we do not rule out having others as well. In each following iteration $k$, we add to the existing paths the posibility of going through the node with index $k$. We take the previous distance matrix, call it `old`, and we compute the updated one, call it `new`, using the formula\n",
    "\n",
    "$$\\mathrm{new}[i,j] = \\min(\\mathrm{old}[i,j], \\mathrm{old}[i,k] + \\mathrm{old}[k,j])$$\n",
    "\n",
    "The formula is similar to the one we used in Dijkstra's algorithm. We have already found a shorter path, using smaller indices, or we can get from node $i$ to $k$ and then from $k$ to $j$ in fewer steps than we could if we didn't use $k$. (There is no need to consider more than the shortest path from $i$ to $k$ and then from $k$ to $j$ here, because any other options would either be entirely using indices smaller than $k$, and thus captured by $\\mathrm{old}[i,j]$, or they would involved more than one trip through node $k$ and then couldn't be shortest).\n",
    "\n",
    "The algorithm simply looks like this:"
   ]
  },
  {
   "cell_type": "code",
   "execution_count": 13,
   "metadata": {},
   "outputs": [
    {
     "name": "stdout",
     "output_type": "stream",
     "text": [
      "[[  0.   1.   2.   2.   3.   1.]\n",
      " [ inf   0.   1.   1.   2.   2.]\n",
      " [ inf  inf   0.  inf   1.  inf]\n",
      " [ inf  inf  inf   0.  inf   1.]\n",
      " [ inf  inf  inf  inf   0.  inf]\n",
      " [ inf   1.   2.   2.   3.   0.]]\n"
     ]
    }
   ],
   "source": [
    "def floyd(graph):\n",
    "    n = graph.shape[0]\n",
    "    d = make_dist_matrix(graph)\n",
    "    new, old = d, d.copy()\n",
    "    for k in range(n):\n",
    "        for i in range(n):\n",
    "            for j in range(n):\n",
    "                new[i,j] = min(old[i,j], old[i,k] + old[k,j])\n",
    "        old, new = new, old\n",
    "    return new\n",
    "\n",
    "print(floyd(mg))"
   ]
  },
  {
   "cell_type": "markdown",
   "metadata": {},
   "source": [
    "Here, I construct the distance matrix, `d`, and then make a copy, `d.copy()`, so I can modify the two copies I have of it independently.\n",
    "\n",
    "We can construct a version of Dijkstra's algorithm that computes all pairwise distances:"
   ]
  },
  {
   "cell_type": "code",
   "execution_count": 14,
   "metadata": {},
   "outputs": [
    {
     "name": "stdout",
     "output_type": "stream",
     "text": [
      "[[  0.   1.   2.   2.   3.   1.]\n",
      " [ inf   0.   1.   1.   2.   2.]\n",
      " [ inf  inf   0.  inf   1.  inf]\n",
      " [ inf   2.   3.   0.   4.   1.]\n",
      " [ inf  inf  inf  inf   0.  inf]\n",
      " [ inf   1.   2.   2.   3.   0.]]\n"
     ]
    }
   ],
   "source": [
    "def all_pairs_dijkstra(graph):\n",
    "    n = len(graph)\n",
    "    return np.array([dijkstra(graph,i) for i in range(n)])\n",
    "\n",
    "print(all_pairs_dijkstra(g))"
   ]
  },
  {
   "cell_type": "markdown",
   "metadata": {},
   "source": [
    "We can then compare its performance with that of Floyd-Warshall. For the small example graph we have used in these notes, the overhead of `floyd`, where we have to manipulate a couple of tables, makes it slow."
   ]
  },
  {
   "cell_type": "code",
   "execution_count": 15,
   "metadata": {},
   "outputs": [
    {
     "name": "stdout",
     "output_type": "stream",
     "text": [
      "183 µs ± 2.54 µs per loop (mean ± std. dev. of 7 runs, 10000 loops each)\n",
      "46.9 µs ± 1.35 µs per loop (mean ± std. dev. of 7 runs, 10000 loops each)\n"
     ]
    }
   ],
   "source": [
    "%timeit floyd(mg)\n",
    "%timeit all_pairs_dijkstra(g)"
   ]
  },
  {
   "cell_type": "markdown",
   "metadata": {},
   "source": [
    "Now, we might hope that this is a consequence of the example graph being small and fairly connected, so the Dijkstra algorithm gets to the shortest paths quickly, but the performance difference remains for larger graphs as well:"
   ]
  },
  {
   "cell_type": "code",
   "execution_count": 16,
   "metadata": {},
   "outputs": [
    {
     "name": "stdout",
     "output_type": "stream",
     "text": [
      "278 ms ± 868 µs per loop (mean ± std. dev. of 7 runs, 1 loop each)\n",
      "932 ms ± 3.1 ms per loop (mean ± std. dev. of 7 runs, 1 loop each)\n"
     ]
    }
   ],
   "source": [
    "import numpy as np\n",
    "\n",
    "def make_random_graph(n, k):\n",
    "    graph = make_list_graph(n)\n",
    "    for i in range(n):\n",
    "        for j in np.random.choice(n, size = k):\n",
    "            add_list_edge(graph, i, j)\n",
    "    return graph        \n",
    "\n",
    "rg = make_random_graph(110, 100)\n",
    "\n",
    "def list_graph_to_matrix_graph(graph):\n",
    "    n = len(graph)\n",
    "    mgraph = make_matrix_graph(n)\n",
    "    for i in range(n):\n",
    "        for j in graph[i]:\n",
    "            mgraph[i,j] = 1\n",
    "    return mgraph\n",
    "\n",
    "mrg = list_graph_to_matrix_graph(rg)\n",
    "\n",
    "%timeit all_pairs_dijkstra(rg)\n",
    "%timeit floyd(mrg)"
   ]
  },
  {
   "cell_type": "markdown",
   "metadata": {
    "collapsed": true
   },
   "source": [
    "The real issue here is not so much the algorithm, though, but the overhead there is with looks in Python. These are slower than loops implemented in the underlying C, and for the list comprehensions we used for Dijkstra's algorithm, we exploit those. Invoking Numpy to deal with the inner-most loop, we can improve upon this. The example code below is a bit hard to read, so don't worry too much about it. It is essentially the same algorithm, just with the `j` loop handled by Numpy."
   ]
  },
  {
   "cell_type": "code",
   "execution_count": 20,
   "metadata": {},
   "outputs": [
    {
     "data": {
      "text/plain": [
       "array([[  0.,   1.,   2.,   2.,   3.,   1.],\n",
       "       [ inf,   0.,   1.,   1.,   2.,   2.],\n",
       "       [ inf,  inf,   0.,  inf,   1.,  inf],\n",
       "       [ inf,   2.,   3.,   0.,   4.,   1.],\n",
       "       [ inf,  inf,  inf,  inf,   0.,  inf],\n",
       "       [ inf,   1.,   2.,   2.,   3.,   0.]])"
      ]
     },
     "execution_count": 20,
     "metadata": {},
     "output_type": "execute_result"
    }
   ],
   "source": [
    "def floyd(graph):\n",
    "    n = graph.shape[0]\n",
    "    d = make_dist_matrix(graph)\n",
    "    for k in range(n):\n",
    "        for i in range(n):\n",
    "            d[i,:] = np.minimum(d[i,:], d[i,k] + d[k,:]) \n",
    "    return d\n",
    "\n",
    "floyd(mg)"
   ]
  },
  {
   "cell_type": "markdown",
   "metadata": {},
   "source": [
    "With this implementation, the Floyd-Warshal algorithm outperform Dijkstra's."
   ]
  },
  {
   "cell_type": "code",
   "execution_count": 19,
   "metadata": {},
   "outputs": [
    {
     "name": "stdout",
     "output_type": "stream",
     "text": [
      "286 ms ± 5.79 ms per loop (mean ± std. dev. of 7 runs, 1 loop each)\n",
      "28.2 ms ± 180 µs per loop (mean ± std. dev. of 7 runs, 10 loops each)\n"
     ]
    }
   ],
   "source": [
    "%timeit all_pairs_dijkstra(rg)\n",
    "%timeit floyd(mrg)"
   ]
  },
  {
   "cell_type": "markdown",
   "metadata": {},
   "source": [
    "Don't worry too much if you do not understand the last version of the algorithm. I only show it here to make it clear that the performance difference is not because of the algorithm but because of different optimisations of the loops.\n",
    "\n",
    "If we had more time in the class to experiment with Numpy and the options you have for solving problems there, we could explore it more. Many of these operations are faster because they use underlying C or FORTRAN routines. You will see some C code towards the end of the class, and there you get a chance to experiment with that."
   ]
  }
 ],
 "metadata": {
  "kernelspec": {
   "display_name": "Python 3",
   "language": "python",
   "name": "python3"
  },
  "language_info": {
   "codemirror_mode": {
    "name": "ipython",
    "version": 3
   },
   "file_extension": ".py",
   "mimetype": "text/x-python",
   "name": "python",
   "nbconvert_exporter": "python",
   "pygments_lexer": "ipython3",
   "version": "3.6.0"
  }
 },
 "nbformat": 4,
 "nbformat_minor": 2
}
