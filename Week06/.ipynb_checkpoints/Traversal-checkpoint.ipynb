{
 "cells": [
  {
   "cell_type": "markdown",
   "metadata": {},
   "source": [
    "# Traversal of graphs\n",
    "\n",
    "A lot of graph algorithms involve traversing the graph structure. This can be done recursively, but unlike the case with trees, there is not necessarily a natural basis case. Trees have leaves but graphs do not necessarily have that. Graphs can have cyclic structure, so a simple recursion will not work. Instead, we need to keep track of which nodes we have already seen during the traversal, so we only process those we haven't yet processed. A depth first traversal, where we keep track of the nodes we have seen in a list, could look like this:"
   ]
  },
  {
   "cell_type": "code",
   "execution_count": 1,
   "metadata": {
    "collapsed": true
   },
   "outputs": [],
   "source": [
    "def depth_first_traversal(graph, v, f, seen = None):\n",
    "    if seen is None: seen = []\n",
    "    seen.append(v)\n",
    "    for w in graph[v]:\n",
    "        if w not in seen:\n",
    "            depth_first_traversal(graph, w, f, seen)\n",
    "    f(v)"
   ]
  },
  {
   "cell_type": "markdown",
   "metadata": {},
   "source": [
    "Here, the `seen = None` is a way to provide a default value to `seen`. If `seen` is `None`, we create an empty list. Don't try to initialise `seen` with the empty list as a default parameter, `seen = []`. This would make the default value *the same* for all calls where the `seen` parameter is not provided--this would give us a full set when we expected an empty one."
   ]
  },
  {
   "cell_type": "code",
   "execution_count": 2,
   "metadata": {
    "collapsed": true
   },
   "outputs": [],
   "source": [
    "def make_list_graph(n_vertices):\n",
    "    return [[] for _ in range(n_vertices)]\n",
    "    \n",
    "def add_list_edge(graph, source, target):\n",
    "    if target not in graph[source]:\n",
    "        graph[source].append(target)"
   ]
  },
  {
   "cell_type": "code",
   "execution_count": 3,
   "metadata": {},
   "outputs": [
    {
     "name": "stdout",
     "output_type": "stream",
     "text": [
      "[[1, 5], [2, 3], [4], [5], [], [1]]\n"
     ]
    }
   ],
   "source": [
    "g = make_list_graph(6)\n",
    "\n",
    "add_list_edge(g, 0, 1)\n",
    "add_list_edge(g, 0, 5)\n",
    "add_list_edge(g, 1, 2)\n",
    "add_list_edge(g, 1, 3)\n",
    "add_list_edge(g, 2, 4)\n",
    "add_list_edge(g, 3, 5)\n",
    "add_list_edge(g, 5, 1)\n",
    "\n",
    "print(g)"
   ]
  },
  {
   "cell_type": "code",
   "execution_count": 4,
   "metadata": {},
   "outputs": [
    {
     "name": "stdout",
     "output_type": "stream",
     "text": [
      "4\n",
      "2\n",
      "5\n",
      "3\n",
      "1\n",
      "0\n"
     ]
    }
   ],
   "source": [
    "depth_first_traversal(g, 0, print)"
   ]
  },
  {
   "cell_type": "markdown",
   "metadata": {},
   "source": [
    "Testing for membership in a list, however, is a linear time operation, so we want to avoid this. One approach would be to use Python's built-in `set` data structure instead."
   ]
  },
  {
   "cell_type": "code",
   "execution_count": 5,
   "metadata": {
    "collapsed": true
   },
   "outputs": [],
   "source": [
    "def depth_first_traversal_set(graph, v, f, seen = None):\n",
    "    if seen is None: seen = set()\n",
    "    seen.add(v)\n",
    "    for w in graph[v]:\n",
    "        if w not in seen:\n",
    "            depth_first_traversal_set(graph, w, f, seen)\n",
    "    f(v)"
   ]
  },
  {
   "cell_type": "markdown",
   "metadata": {},
   "source": [
    "We can also be more explicit with the set we represent by using a boolean/bit vector for the `seen` data structure. Then, we can set indices to `True` or `False` depending on whether we have seen them."
   ]
  },
  {
   "cell_type": "code",
   "execution_count": 6,
   "metadata": {
    "collapsed": true
   },
   "outputs": [],
   "source": [
    "def depth_first_traversal_bv(graph, v, f, seen = None):\n",
    "    if seen is None:\n",
    "        seen = [False] * len(graph)\n",
    "        \n",
    "    seen[v] = True\n",
    "    for w in graph[v]:\n",
    "        if not seen[w]:\n",
    "            depth_first_traversal_bv(graph, w, f, seen)\n",
    "    f(v)"
   ]
  },
  {
   "cell_type": "markdown",
   "metadata": {},
   "source": [
    "Except for the different data structure, the flow of the traversal is the same as the previous two implementations."
   ]
  },
  {
   "cell_type": "code",
   "execution_count": 7,
   "metadata": {},
   "outputs": [
    {
     "name": "stdout",
     "output_type": "stream",
     "text": [
      "bit vector\n",
      "4\n",
      "2\n",
      "5\n",
      "3\n",
      "1\n",
      "0\n",
      "\n",
      "set\n",
      "4\n",
      "2\n",
      "5\n",
      "3\n",
      "1\n",
      "0\n"
     ]
    }
   ],
   "source": [
    "print(\"bit vector\")\n",
    "depth_first_traversal_bv(g, 0, print)\n",
    "print(\"\\nset\")\n",
    "depth_first_traversal_set(g, 0, print)"
   ]
  },
  {
   "cell_type": "markdown",
   "metadata": {},
   "source": [
    "For the small graph we have traversed so far, there isn't much difference between the different implementations. It doesn't matter if the search take linear time if we have six nodes at most."
   ]
  },
  {
   "cell_type": "code",
   "execution_count": 8,
   "metadata": {},
   "outputs": [
    {
     "name": "stdout",
     "output_type": "stream",
     "text": [
      "2.73 µs ± 22.4 ns per loop (mean ± std. dev. of 7 runs, 100000 loops each)\n",
      "2.28 µs ± 12.2 ns per loop (mean ± std. dev. of 7 runs, 100000 loops each)\n",
      "2.53 µs ± 6.49 ns per loop (mean ± std. dev. of 7 runs, 100000 loops each)\n"
     ]
    }
   ],
   "source": [
    "def do_nothing(v):\n",
    "    pass\n",
    "\n",
    "%timeit depth_first_traversal(g, 0, do_nothing)\n",
    "%timeit depth_first_traversal_bv(g, 0, do_nothing)\n",
    "%timeit depth_first_traversal_set(g, 0, do_nothing)"
   ]
  },
  {
   "cell_type": "markdown",
   "metadata": {},
   "source": [
    "For a larger graph, however, we see that the linear time membership test makes the list implementation substantially slower than the other two. The bit-vector implementation is somewhat faster than the set implementation."
   ]
  },
  {
   "cell_type": "code",
   "execution_count": 9,
   "metadata": {},
   "outputs": [
    {
     "name": "stdout",
     "output_type": "stream",
     "text": [
      "421 ms ± 634 µs per loop (mean ± std. dev. of 7 runs, 1 loop each)\n",
      "4 ms ± 15.3 µs per loop (mean ± std. dev. of 7 runs, 100 loops each)\n",
      "2.65 ms ± 34.7 µs per loop (mean ± std. dev. of 7 runs, 100 loops each)\n"
     ]
    }
   ],
   "source": [
    "import numpy as np\n",
    "\n",
    "def make_random_graph(n, k):\n",
    "    graph = make_list_graph(n)\n",
    "    for i in range(n):\n",
    "        for j in np.random.choice(n, size = k):\n",
    "            add_list_edge(graph, i, j)\n",
    "    return graph        \n",
    "\n",
    "rg = make_random_graph(1000, 50)\n",
    "\n",
    "%timeit depth_first_traversal(rg, 0, do_nothing)\n",
    "%timeit depth_first_traversal_set(rg, 0, do_nothing)\n",
    "%timeit depth_first_traversal_bv(rg, 0, do_nothing)"
   ]
  },
  {
   "cell_type": "markdown",
   "metadata": {},
   "source": [
    "The `make_random_graph` function here makes a graph with $n$ vertices and sample $k$ random neighbours for each. There might be some overlap with those neighbours, so it doesn't mean that the number of neighbours will be *exactly* $k$, but it is the expected number when $k\\ll n$. The graph I simulated has 1000 nodes and each has randomly chosen 50 neighbours, so we would expect most nodes to have 50 neighbours since picking 50 out of a 1000 will not have many duplications.\n",
    "\n",
    "## Closures\n",
    "\n",
    "The way I have implemented the traversal functions, we can provide a function that will be called on each node. For just printing the node number, as I have done, that is fine, but for most uses we will want to collect some data from the traversal. There is a quite simple way to do this using nested functions, also known as *closures*. If we define a function like this:"
   ]
  },
  {
   "cell_type": "code",
   "execution_count": 12,
   "metadata": {},
   "outputs": [
    {
     "data": {
      "text/plain": [
       "{0, 1, 2, 3, 4, 5}"
      ]
     },
     "execution_count": 12,
     "metadata": {},
     "output_type": "execute_result"
    }
   ],
   "source": [
    "def reachable_nodes(graph, v):\n",
    "    reachable = set()\n",
    "    def nested_function_that_does_the_job(w):\n",
    "        reachable.add(w)\n",
    "    depth_first_traversal_bv(graph, v, nested_function_that_does_the_job)\n",
    "    return reachable\n",
    "reachable_nodes(g, 0)"
   ]
  },
  {
   "cell_type": "markdown",
   "metadata": {},
   "source": [
    "the nested function, `nested_function_that_does_the_job` can refer to the `reachable` set we define in the `reachable_nodes` function, and we can modify it when the traversal function calls the function. This is something that is called a *closure*. It is a shortening of *enclosure* and means that the inner function can see the variables defined in the enclosing function. There are other ways to achieve similar effects, but this is how I would do this, and is a common solution. You can simply use the same pattern if you need to carry data structures along through a traversal.\n",
    "\n",
    "Of course, all nodes in this particular graph are reachable from node zero, so it might be more interesting to see what we get for some of the other nodes:"
   ]
  },
  {
   "cell_type": "code",
   "execution_count": 15,
   "metadata": {},
   "outputs": [
    {
     "name": "stdout",
     "output_type": "stream",
     "text": [
      "0 : {0, 1, 2, 3, 4, 5}\n",
      "1 : {1, 2, 3, 4, 5}\n",
      "2 : {2, 4}\n",
      "3 : {1, 2, 3, 4, 5}\n",
      "4 : {4}\n",
      "5 : {1, 2, 3, 4, 5}\n"
     ]
    }
   ],
   "source": [
    "for v in range(6):\n",
    "    print(v, ':', reachable_nodes(g, v))"
   ]
  },
  {
   "cell_type": "markdown",
   "metadata": {},
   "source": [
    "## Exercises\n",
    "\n",
    "It is time to do some exercises to get familiar with graphs. The first one is very simple if you think carefully about it, and doesn't actually involve any traversal.\n",
    "\n",
    "### Node degrees in an unoriented graph\n",
    "\n",
    "Write a function that computes the average degree of the nodes in a graph, that is, add together the number of neighbours each nodes in an undirected graph has and divide by the number of nodes. You only have to implement this for the list representation. The easiest way to do the same computation for the matrix representation is to first translate the matrix representation into the list representation and then do the computation there."
   ]
  },
  {
   "cell_type": "code",
   "execution_count": null,
   "metadata": {
    "collapsed": true
   },
   "outputs": [],
   "source": []
  },
  {
   "cell_type": "markdown",
   "metadata": {},
   "source": [
    "To test this function, you might want to create a modified version of `make_random_graph` that creates an unoriented graph.\n",
    "\n",
    "### Node degrees in an oriented graph\n",
    "\n",
    "This exercise is slightly more complicated. In an oriented graph, the number of neighbours a node has is not directly observable from the representation in either representation. You will have to collect both the neighbours you can go to from a node and the neighbours that can reach the node in one step. Still, the exercise is to compute the average node degree."
   ]
  },
  {
   "cell_type": "code",
   "execution_count": null,
   "metadata": {
    "collapsed": true
   },
   "outputs": [],
   "source": []
  },
  {
   "cell_type": "markdown",
   "metadata": {},
   "source": [
    "### Size of the reachable sub-graph\n",
    "\n",
    "For each node, compute the number of reachable nodes in the graph. Test it on some random graphs."
   ]
  },
  {
   "cell_type": "code",
   "execution_count": null,
   "metadata": {
    "collapsed": true
   },
   "outputs": [],
   "source": []
  },
  {
   "cell_type": "markdown",
   "metadata": {},
   "source": []
  }
 ],
 "metadata": {
  "kernelspec": {
   "display_name": "Python 3",
   "language": "python",
   "name": "python3"
  },
  "language_info": {
   "codemirror_mode": {
    "name": "ipython",
    "version": 3
   },
   "file_extension": ".py",
   "mimetype": "text/x-python",
   "name": "python",
   "nbconvert_exporter": "python",
   "pygments_lexer": "ipython3",
   "version": "3.6.0"
  }
 },
 "nbformat": 4,
 "nbformat_minor": 2
}
